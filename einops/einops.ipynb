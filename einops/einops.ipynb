{
 "cells": [
  {
   "cell_type": "code",
   "execution_count": 2,
   "metadata": {},
   "outputs": [],
   "source": [
    "import torch\n",
    "from torch import nn\n",
    "from torch.nn import functional as F\n",
    "from einops import rearrange, reduce, repeat\n",
    "import matplotlib.pyplot as plt"
   ]
  },
  {
   "cell_type": "code",
   "execution_count": 3,
   "metadata": {},
   "outputs": [
    {
     "data": {
      "text/plain": [
       "torch.Size([3, 10, 4, 4, 4])"
      ]
     },
     "execution_count": 3,
     "metadata": {},
     "output_type": "execute_result"
    }
   ],
   "source": [
    "b,c,h,w,d = 3, 10,4,4,4\n",
    "q = torch.randn(b,c,h,w,d)\n",
    "k = torch.randn(b,c,h,w,d)\n",
    "v = torch.randn(b,c,h,w,d)\n",
    "q.shape"
   ]
  },
  {
   "cell_type": "code",
   "execution_count": 4,
   "metadata": {},
   "outputs": [
    {
     "data": {
      "text/plain": [
       "torch.Size([30, 4, 4, 4])"
      ]
     },
     "execution_count": 4,
     "metadata": {},
     "output_type": "execute_result"
    }
   ],
   "source": [
    "rearrange(q, \"b c h w d -> (b c) h w d \").shape"
   ]
  },
  {
   "cell_type": "code",
   "execution_count": 5,
   "metadata": {},
   "outputs": [],
   "source": [
    "q = rearrange(q, \"b c h w d -> b (h w d) c \")\n",
    "k = rearrange(k, \"b c h w d -> b c (h w d)\")\n",
    "# w.shape"
   ]
  },
  {
   "cell_type": "code",
   "execution_count": 6,
   "metadata": {},
   "outputs": [
    {
     "data": {
      "text/plain": [
       "torch.Size([3, 64, 64])"
      ]
     },
     "execution_count": 6,
     "metadata": {},
     "output_type": "execute_result"
    }
   ],
   "source": [
    "wei = (q @ k)\n",
    "wei.shape"
   ]
  },
  {
   "cell_type": "code",
   "execution_count": 7,
   "metadata": {},
   "outputs": [
    {
     "data": {
      "text/plain": [
       "torch.Size([3, 64, 64])"
      ]
     },
     "execution_count": 7,
     "metadata": {},
     "output_type": "execute_result"
    }
   ],
   "source": [
    "# q is product of spatial dimensions: h*w*d\n",
    "# so w is a matrix representing attention between each *voxel*\n",
    "w2 = torch.einsum(\"b q c, b c k -> b q k\", q,k)\n",
    "w2.shape"
   ]
  },
  {
   "cell_type": "code",
   "execution_count": 9,
   "metadata": {},
   "outputs": [
    {
     "data": {
      "text/plain": [
       "True"
      ]
     },
     "execution_count": 9,
     "metadata": {},
     "output_type": "execute_result"
    }
   ],
   "source": [
    "torch.allclose(wei,w2)"
   ]
  },
  {
   "cell_type": "code",
   "execution_count": 11,
   "metadata": {},
   "outputs": [],
   "source": [
    "class AttnBlock(nn.Module):\n",
    "  \"\"\"Channel-wise self-attention block.\"\"\"\n",
    "  def __init__(self, channels):\n",
    "    super().__init__()\n",
    "    torch.random.manual_seed(42)\n",
    "    self.GroupNorm_0 = nn.GroupNorm(num_groups=1, num_channels=channels, eps=1e-6)\n",
    "    self.NIN_0 = nn.Conv2d(channels, channels, kernel_size=1)\n",
    "    self.NIN_1 = nn.Conv2d(channels, channels, kernel_size=1)\n",
    "    self.NIN_2 = nn.Conv2d(channels, channels, kernel_size=1)\n",
    "    self.NIN_3 = nn.Conv2d(channels, channels, kernel_size=1)\n",
    "\n",
    "  def forward(self, x):\n",
    "    B, C, H, W = x.shape\n",
    "    h = self.GroupNorm_0(x)\n",
    "    q = self.NIN_0(h)\n",
    "    k = self.NIN_1(h)\n",
    "    v = self.NIN_2(h)\n",
    "\n",
    "    w = torch.einsum('bchw,bcij->bhwij', q, k) * (int(C) ** (-0.5))\n",
    "    w = torch.reshape(w, (B, H, W, H * W))\n",
    "    w = F.softmax(w, dim=-1)\n",
    "    # plt.imshow(w[0].detach().numpy().reshape(-1,H*W))\n",
    "    # plt.show()\n",
    "    w = torch.reshape(w, (B, H, W, H, W))\n",
    "    h = torch.einsum('bhwij,bcij->bchw', w, v)\n",
    "    # plt.imshow(h[0].detach().numpy().reshape(H*W,C))\n",
    "    h = self.NIN_3(h)\n",
    "    return h"
   ]
  },
  {
   "cell_type": "code",
   "execution_count": 12,
   "metadata": {},
   "outputs": [],
   "source": [
    "class MyAttnBlock(nn.Module):\n",
    "  \"\"\"Channel-wise self-attention block.\"\"\"\n",
    "  def __init__(self, channels):\n",
    "    super().__init__()\n",
    "    torch.random.manual_seed(42)\n",
    "    self.GroupNorm_0 = nn.GroupNorm(num_groups=1, num_channels=channels, eps=1e-6)\n",
    "    self.NIN_0 = nn.Conv2d(channels, channels, kernel_size=1)\n",
    "    self.NIN_1 = nn.Conv2d(channels, channels, kernel_size=1)\n",
    "    self.NIN_2 = nn.Conv2d(channels, channels, kernel_size=1)\n",
    "    self.NIN_3 = nn.Conv2d(channels, channels, kernel_size=1)\n",
    "    self.scale = int(channels) ** (-0.5)\n",
    "\n",
    "  def forward(self, x):\n",
    "    B, C, H, W = x.shape\n",
    "    h = self.GroupNorm_0(x)\n",
    "    q = self.NIN_0(h)\n",
    "    k = self.NIN_1(h)\n",
    "    v = self.NIN_2(h)\n",
    "\n",
    "    q = rearrange(q, \"b c h w -> b c (h w)\")\n",
    "    k = rearrange(k, \"b c h w -> b c (h w)\")\n",
    "    v = rearrange(v, \"b c h w -> b c (h w)\")\n",
    "\n",
    "    w = torch.einsum('b c q, b c k -> b q k', q, k) * self.scale\n",
    "    w = F.softmax(w, dim=-1)\n",
    "    # plt.imshow(w[0].detach().numpy())\n",
    "    # plt.show()\n",
    "    # Note how k is used for both inputs\n",
    "    # This is important as it tells einops to expect the *same* dimensions\n",
    "    # so e.g. this did NOT work: \"bqk, b c *v* -> bcq\"\n",
    "    h = torch.einsum(\"bqk,bck->bcq\", w,v)\n",
    "    # print(h.shape)\n",
    "    h = rearrange(h, \"b c (h w) -> b c h w\", h=H, w=W)\n",
    "    # h = torch.reshape(h, (B, C, H, W))\n",
    "    # plt.imshow(h[0].detach().numpy().reshape(H*W,C))\n",
    "    # print(h.shape)\n",
    "    h = self.NIN_3(h)\n",
    "\n",
    "    return h"
   ]
  },
  {
   "cell_type": "code",
   "execution_count": 13,
   "metadata": {},
   "outputs": [],
   "source": [
    "b,c,h,w,d = 3, 8, 4,4,4\n",
    "x = torch.randn(b,c,h,w)\n",
    "attention = torch.jit.script(AttnBlock(c))\n",
    "attentionpp = MyAttnBlock(c)"
   ]
  },
  {
   "cell_type": "code",
   "execution_count": 14,
   "metadata": {},
   "outputs": [
    {
     "name": "stdout",
     "output_type": "stream",
     "text": [
      "CPU times: user 31.5 ms, sys: 2.61 ms, total: 34.1 ms\n",
      "Wall time: 33.3 ms\n"
     ]
    }
   ],
   "source": [
    "%%time\n",
    "y1 = attention(x)"
   ]
  },
  {
   "cell_type": "code",
   "execution_count": 15,
   "metadata": {},
   "outputs": [
    {
     "name": "stdout",
     "output_type": "stream",
     "text": [
      "CPU times: user 1.11 ms, sys: 768 µs, total: 1.88 ms\n",
      "Wall time: 1.18 ms\n"
     ]
    }
   ],
   "source": [
    "%%time\n",
    "y2 = attentionpp(x)"
   ]
  },
  {
   "cell_type": "code",
   "execution_count": 16,
   "metadata": {},
   "outputs": [],
   "source": [
    "assert torch.allclose(y1, y2)"
   ]
  },
  {
   "cell_type": "code",
   "execution_count": 17,
   "metadata": {},
   "outputs": [],
   "source": [
    "from einops.layers.torch import Rearrange\n",
    "\n",
    "class AttnBlock3d(nn.Module):\n",
    "  \"\"\"Channel-wise 3D self-attention block.\"\"\"\n",
    "  def __init__(self, channels):\n",
    "    super().__init__()\n",
    "    torch.random.manual_seed(42)\n",
    "    self.norm = nn.GroupNorm(num_groups=1, num_channels=channels, eps=1e-6)\n",
    "    self.qkv = nn.Conv3d(channels, channels*3, kernel_size=1)\n",
    "    self.spatial_flatten = Rearrange(pattern=\"b c h w d -> b c (h w d)\")\n",
    "    self.proj = nn.Conv3d(channels, channels, kernel_size=1)\n",
    "    self.scale = int(channels) ** (-0.5)\n",
    "\n",
    "  def forward(self, x):\n",
    "    B, C, H, W, D = x.shape\n",
    "    q,k,v = self.qkv(self.norm(x)).chunk(3, dim=1)\n",
    "\n",
    "    q = self.spatial_flatten(q)\n",
    "    k = self.spatial_flatten(k)\n",
    "    v = self.spatial_flatten(v)\n",
    "\n",
    "    w = torch.einsum('b c q, b c k -> b q k', q, k) * self.scale\n",
    "    w = F.softmax(w, dim=-1)\n",
    "    h = torch.einsum(\"b q k , b c k -> b c q\", w,v)\n",
    "    h = torch.reshape(h, (B, C, H, W, D))\n",
    "    h = self.proj(h)\n",
    "\n",
    "    return x + h"
   ]
  },
  {
   "cell_type": "code",
   "execution_count": 18,
   "metadata": {},
   "outputs": [],
   "source": [
    "b,c,h,w,d = 5, 8, 4,4,4\n",
    "x = torch.randn(b,c,h,w, d)\n",
    "attention3d = AttnBlock3d(c)\n",
    "jitted_attention3d = torch.jit.script(AttnBlock3d(c))"
   ]
  },
  {
   "cell_type": "code",
   "execution_count": 19,
   "metadata": {},
   "outputs": [],
   "source": [
    "qkv = nn.Conv3d(c, c*3, kernel_size=1)"
   ]
  },
  {
   "cell_type": "code",
   "execution_count": 20,
   "metadata": {},
   "outputs": [
    {
     "name": "stdout",
     "output_type": "stream",
     "text": [
      "CPU times: user 472 µs, sys: 273 µs, total: 745 µs\n",
      "Wall time: 515 µs\n"
     ]
    }
   ],
   "source": [
    "%%time\n",
    "q,k,v = qkv(x).reshape(b,c,3,h,w,d).unbind(dim=2)"
   ]
  },
  {
   "cell_type": "code",
   "execution_count": 21,
   "metadata": {},
   "outputs": [
    {
     "name": "stdout",
     "output_type": "stream",
     "text": [
      "CPU times: user 184 µs, sys: 47 µs, total: 231 µs\n",
      "Wall time: 193 µs\n"
     ]
    }
   ],
   "source": [
    "%%time\n",
    "q,k,v = qkv(x).chunk(3, dim=1)"
   ]
  },
  {
   "cell_type": "code",
   "execution_count": 22,
   "metadata": {},
   "outputs": [
    {
     "data": {
      "text/plain": [
       "(torch.Size([5, 8, 4, 4, 4]),\n",
       " torch.Size([5, 8, 4, 4, 4]),\n",
       " torch.Size([5, 8, 4, 4, 4]))"
      ]
     },
     "execution_count": 22,
     "metadata": {},
     "output_type": "execute_result"
    }
   ],
   "source": [
    "q.shape,k.shape,v.shape"
   ]
  },
  {
   "cell_type": "code",
   "execution_count": 23,
   "metadata": {},
   "outputs": [
    {
     "name": "stdout",
     "output_type": "stream",
     "text": [
      "CPU times: user 1.06 ms, sys: 777 µs, total: 1.83 ms\n",
      "Wall time: 1.06 ms\n"
     ]
    }
   ],
   "source": [
    "%%time\n",
    "y = attention3d(x)"
   ]
  },
  {
   "cell_type": "code",
   "execution_count": 24,
   "metadata": {},
   "outputs": [
    {
     "name": "stdout",
     "output_type": "stream",
     "text": [
      "CPU times: user 17.3 ms, sys: 1.45 ms, total: 18.8 ms\n",
      "Wall time: 17.2 ms\n"
     ]
    }
   ],
   "source": [
    "%%time\n",
    "y = jitted_attention3d(x)"
   ]
  },
  {
   "cell_type": "code",
   "execution_count": 25,
   "metadata": {},
   "outputs": [
    {
     "data": {
      "image/png": "[encoded data removed]",
      "image/svg+xml": "<?xml version=\"1.0\" encoding=\"utf-8\" standalone=\"no\"?>\n<!DOCTYPE svg PUBLIC \"-//W3C//DTD SVG 1.1//EN\"\n  \"http://www.w3.org/Graphics/SVG/1.1/DTD/svg11.dtd\">\n<svg xmlns:xlink=\"http://www.w3.org/1999/xlink\" width=\"384.8825pt\" height=\"120.358125pt\" viewBox=\"0 0 384.8825 120.358125\" xmlns=\"http://www.w3.org/2000/svg\" version=\"1.1\">\n <metadata>\n  <rdf:RDF xmlns:dc=\"http://purl.org/dc/elements/1.1/\" xmlns:cc=\"http://creativecommons.org/ns#\" xmlns:rdf=\"http://www.w3.org/1999/02/22-rdf-syntax-ns#\">\n   <cc:Work>\n    <dc:type rdf:resource=\"http://purl.org/dc/dcmitype/StillImage\"/>\n    <dc:date>2023-02-23T16:13:59.468975</dc:date>\n    <dc:format>image/svg+xml</dc:format>\n    <dc:creator>\n     <cc:Agent>\n      <dc:title>Matplotlib v3.6.1, https://matplotlib.org/</dc:title>\n     </cc:Agent>\n    </dc:creator>\n   </cc:Work>\n  </rdf:RDF>\n </metadata>\n <defs>\n  <style type=\"text/css\">*{stroke-linejoin: round; stroke-linecap: butt}</style>\n </defs>\n <g id=\"figure_1\">\n  <g id=\"patch_1\">\n   <path d=\"M 0 120.358125 \nL 384.8825 120.358125 \nL 384.8825 0 \nL 0 0 \nz\n\" style=\"fill: #ffffff\"/>\n  </g>\n  <g id=\"axes_1\">\n   <g id=\"patch_2\">\n    <path d=\"M 20.5625 96.48 \nL 377.6825 96.48 \nL 377.6825 7.2 \nL 20.5625 7.2 \nz\n\" style=\"fill: #ffffff\"/>\n   </g>\n   <g clip-path=\"url(#pa627374395)\">\n    <image xlink:href=\"data:image/png;base64,\niVBORw0KGgoAAAANSUhEUgAAAfEAAAB9CAYAAACyN1pqAAADqUlEQVR4nO3XsYvXZQDH8efiLs/DLKJMK+7ApELdQkShwVEXBSGCQJAIwaWxLfoDHFsE/4E4cLCh5aiWgkIHHa4czsJBsSRMrfPu/N35Rzh8+MDr9Q98huf58v4+U6d/Orc1Qq6uLKSmx/6Fu7Ht5Rvzse3X3vkntr229Hpse2MuNj1W5zdi27vnc+c9xhgX3luMbZ+5cj62ferDX2Pbf6/viG1f/+ZgbHtzJjY91nfGMjpeiC0DAM9FxAGglIgDQCkRB4BSIg4ApUQcAEqJOACUEnEAKCXiAFBKxAGglIgDQCkRB4BSIg4ApUQcAEqJOACUEnEAKCXiAFBKxAGglIgDQCkRB4BSIg4ApUQcAEqJOACUEnEAKCXiAFBKxAGglIgDQCkRB4BSIg4ApUQcAEpNL/+1Oza+89psbHvvgfux7SeX98S2730+E9veOPIotr12f3tse0zlph88nsuNjzG++uNkbPvdSw9i2z8uH45trx//N7a9emg1tj17I/eNr7/xNLbtJQ4ApUQcAEqJOACUEnEAKCXiAFBKxAGglIgDQCkRB4BSIg4ApUQcAEqJOACUEnEAKCXiAFBKxAGglIgDQCkRB4BSIg4ApUQcAEqJOACUEnEAKCXiAFBKxAGglIgDQCkRB4BSIg4ApUQcAEqJOACUEnEAKCXiAFBKxAGglIgDQKnpySTX8enY8hi3/3s1tv1wYVtse4wnseVP9/8c2146+FJse+3Eodj27Y9ejG2PMcbMZw9j2ze/fCu2vevqVmx7c+mV3Pb7k9j2x598H9v+9sKx2LaXOACUEnEAKCXiAFBKxAGglIgDQCkRB4BSIg4ApUQcAEqJOACUEnEAKCXiAFBKxAGglIgDQCkRB4BSIg4ApUQcAEqJOACUEnEAKCXiAFBKxAGglIgDQCkRB4BSIg4ApUQcAEqJOACUEnEAKCXiAFBKxAGglIgDQCkRB4BSU2d+ObuVGv/t6wOp6fH47dz/y+ZMbHpMZmPHPZ7O5bZ3/Jk770f7JrHtW6cvxrbHGGPfD2dj20f3rsS27/7/cmx75fc3Y9tb23J3/Yuj38W2F+98ENv2EgeAUiIOAKVEHABKiTgAlBJxACgl4gBQSsQBoJSIA0ApEQeAUiIOAKVEHABKiTgAlBJxACgl4gBQSsQBoJSIA0ApEQeAUiIOAKVEHABKiTgAlBJxACgl4gBQSsQBoJSIA0ApEQeAUiIOAKVEHABKiTgAlBJxACgl4gBQ6hkkDWSrj2dwDgAAAABJRU5ErkJggg==\" id=\"imageb1049a0d92\" transform=\"scale(1 -1) translate(0 -90)\" x=\"20.5625\" y=\"-6.48\" width=\"357.84\" height=\"90\"/>\n   </g>\n   <g id=\"matplotlib.axis_1\">\n    <g id=\"xtick_1\">\n     <g id=\"line2d_1\">\n      <defs>\n       <path id=\"m7a257c5182\" d=\"M 0 0 \nL 0 3.5 \n\" style=\"stroke: #000000; stroke-width: 0.8\"/>\n      </defs>\n      <g>\n       <use xlink:href=\"#m7a257c5182\" x=\"31.7225\" y=\"96.48\" style=\"stroke: #000000; stroke-width: 0.8\"/>\n      </g>\n     </g>\n     <g id=\"text_1\">\n      <!-- 0 -->\n      <g transform=\"translate(28.54125 111.078438) scale(0.1 -0.1)\">\n       <defs>\n        <path id=\"DejaVuSans-30\" d=\"M 2034 4250 \nQ 1547 4250 1301 3770 \nQ 1056 3291 1056 2328 \nQ 1056 1369 1301 889 \nQ 1547 409 2034 409 \nQ 2525 409 2770 889 \nQ 3016 1369 3016 2328 \nQ 3016 3291 2770 3770 \nQ 2525 4250 2034 4250 \nz\nM 2034 4750 \nQ 2819 4750 3233 4129 \nQ 3647 3509 3647 2328 \nQ 3647 1150 3233 529 \nQ 2819 -91 2034 -91 \nQ 1250 -91 836 529 \nQ 422 1150 422 2328 \nQ 422 3509 836 4129 \nQ 1250 4750 2034 4750 \nz\n\" transform=\"scale(0.015625)\"/>\n       </defs>\n       <use xlink:href=\"#DejaVuSans-30\"/>\n      </g>\n     </g>\n    </g>\n    <g id=\"xtick_2\">\n     <g id=\"line2d_2\">\n      <g>\n       <use xlink:href=\"#m7a257c5182\" x=\"76.3625\" y=\"96.48\" style=\"stroke: #000000; stroke-width: 0.8\"/>\n      </g>\n     </g>\n     <g id=\"text_2\">\n      <!-- 2 -->\n      <g transform=\"translate(73.18125 111.078438) scale(0.1 -0.1)\">\n       <defs>\n        <path id=\"DejaVuSans-32\" d=\"M 1228 531 \nL 3431 531 \nL 3431 0 \nL 469 0 \nL 469 531 \nQ 828 903 1448 1529 \nQ 2069 2156 2228 2338 \nQ 2531 2678 2651 2914 \nQ 2772 3150 2772 3378 \nQ 2772 3750 2511 3984 \nQ 2250 4219 1831 4219 \nQ 1534 4219 1204 4116 \nQ 875 4013 500 3803 \nL 500 4441 \nQ 881 4594 1212 4672 \nQ 1544 4750 1819 4750 \nQ 2544 4750 2975 4387 \nQ 3406 4025 3406 3419 \nQ 3406 3131 3298 2873 \nQ 3191 2616 2906 2266 \nQ 2828 2175 2409 1742 \nQ 1991 1309 1228 531 \nz\n\" transform=\"scale(0.015625)\"/>\n       </defs>\n       <use xlink:href=\"#DejaVuSans-32\"/>\n      </g>\n     </g>\n    </g>\n    <g id=\"xtick_3\">\n     <g id=\"line2d_3\">\n      <g>\n       <use xlink:href=\"#m7a257c5182\" x=\"121.0025\" y=\"96.48\" style=\"stroke: #000000; stroke-width: 0.8\"/>\n      </g>\n     </g>\n     <g id=\"text_3\">\n      <!-- 4 -->\n      <g transform=\"translate(117.82125 111.078438) scale(0.1 -0.1)\">\n       <defs>\n        <path id=\"DejaVuSans-34\" d=\"M 2419 4116 \nL 825 1625 \nL 2419 1625 \nL 2419 4116 \nz\nM 2253 4666 \nL 3047 4666 \nL 3047 1625 \nL 3713 1625 \nL 3713 1100 \nL 3047 1100 \nL 3047 0 \nL 2419 0 \nL 2419 1100 \nL 313 1100 \nL 313 1709 \nL 2253 4666 \nz\n\" transform=\"scale(0.015625)\"/>\n       </defs>\n       <use xlink:href=\"#DejaVuSans-34\"/>\n      </g>\n     </g>\n    </g>\n    <g id=\"xtick_4\">\n     <g id=\"line2d_4\">\n      <g>\n       <use xlink:href=\"#m7a257c5182\" x=\"165.6425\" y=\"96.48\" style=\"stroke: #000000; stroke-width: 0.8\"/>\n      </g>\n     </g>\n     <g id=\"text_4\">\n      <!-- 6 -->\n      <g transform=\"translate(162.46125 111.078438) scale(0.1 -0.1)\">\n       <defs>\n        <path id=\"DejaVuSans-36\" d=\"M 2113 2584 \nQ 1688 2584 1439 2293 \nQ 1191 2003 1191 1497 \nQ 1191 994 1439 701 \nQ 1688 409 2113 409 \nQ 2538 409 2786 701 \nQ 3034 994 3034 1497 \nQ 3034 2003 2786 2293 \nQ 2538 2584 2113 2584 \nz\nM 3366 4563 \nL 3366 3988 \nQ 3128 4100 2886 4159 \nQ 2644 4219 2406 4219 \nQ 1781 4219 1451 3797 \nQ 1122 3375 1075 2522 \nQ 1259 2794 1537 2939 \nQ 1816 3084 2150 3084 \nQ 2853 3084 3261 2657 \nQ 3669 2231 3669 1497 \nQ 3669 778 3244 343 \nQ 2819 -91 2113 -91 \nQ 1303 -91 875 529 \nQ 447 1150 447 2328 \nQ 447 3434 972 4092 \nQ 1497 4750 2381 4750 \nQ 2619 4750 2861 4703 \nQ 3103 4656 3366 4563 \nz\n\" transform=\"scale(0.015625)\"/>\n       </defs>\n       <use xlink:href=\"#DejaVuSans-36\"/>\n      </g>\n     </g>\n    </g>\n    <g id=\"xtick_5\">\n     <g id=\"line2d_5\">\n      <g>\n       <use xlink:href=\"#m7a257c5182\" x=\"210.2825\" y=\"96.48\" style=\"stroke: #000000; stroke-width: 0.8\"/>\n      </g>\n     </g>\n     <g id=\"text_5\">\n      <!-- 8 -->\n      <g transform=\"translate(207.10125 111.078438) scale(0.1 -0.1)\">\n       <defs>\n        <path id=\"DejaVuSans-38\" d=\"M 2034 2216 \nQ 1584 2216 1326 1975 \nQ 1069 1734 1069 1313 \nQ 1069 891 1326 650 \nQ 1584 409 2034 409 \nQ 2484 409 2743 651 \nQ 3003 894 3003 1313 \nQ 3003 1734 2745 1975 \nQ 2488 2216 2034 2216 \nz\nM 1403 2484 \nQ 997 2584 770 2862 \nQ 544 3141 544 3541 \nQ 544 4100 942 4425 \nQ 1341 4750 2034 4750 \nQ 2731 4750 3128 4425 \nQ 3525 4100 3525 3541 \nQ 3525 3141 3298 2862 \nQ 3072 2584 2669 2484 \nQ 3125 2378 3379 2068 \nQ 3634 1759 3634 1313 \nQ 3634 634 3220 271 \nQ 2806 -91 2034 -91 \nQ 1263 -91 848 271 \nQ 434 634 434 1313 \nQ 434 1759 690 2068 \nQ 947 2378 1403 2484 \nz\nM 1172 3481 \nQ 1172 3119 1398 2916 \nQ 1625 2713 2034 2713 \nQ 2441 2713 2670 2916 \nQ 2900 3119 2900 3481 \nQ 2900 3844 2670 4047 \nQ 2441 4250 2034 4250 \nQ 1625 4250 1398 4047 \nQ 1172 3844 1172 3481 \nz\n\" transform=\"scale(0.015625)\"/>\n       </defs>\n       <use xlink:href=\"#DejaVuSans-38\"/>\n      </g>\n     </g>\n    </g>\n    <g id=\"xtick_6\">\n     <g id=\"line2d_6\">\n      <g>\n       <use xlink:href=\"#m7a257c5182\" x=\"254.9225\" y=\"96.48\" style=\"stroke: #000000; stroke-width: 0.8\"/>\n      </g>\n     </g>\n     <g id=\"text_6\">\n      <!-- 10 -->\n      <g transform=\"translate(248.56 111.078438) scale(0.1 -0.1)\">\n       <defs>\n        <path id=\"DejaVuSans-31\" d=\"M 794 531 \nL 1825 531 \nL 1825 4091 \nL 703 3866 \nL 703 4441 \nL 1819 4666 \nL 2450 4666 \nL 2450 531 \nL 3481 531 \nL 3481 0 \nL 794 0 \nL 794 531 \nz\n\" transform=\"scale(0.015625)\"/>\n       </defs>\n       <use xlink:href=\"#DejaVuSans-31\"/>\n       <use xlink:href=\"#DejaVuSans-30\" x=\"63.623047\"/>\n      </g>\n     </g>\n    </g>\n    <g id=\"xtick_7\">\n     <g id=\"line2d_7\">\n      <g>\n       <use xlink:href=\"#m7a257c5182\" x=\"299.5625\" y=\"96.48\" style=\"stroke: #000000; stroke-width: 0.8\"/>\n      </g>\n     </g>\n     <g id=\"text_7\">\n      <!-- 12 -->\n      <g transform=\"translate(293.2 111.078438) scale(0.1 -0.1)\">\n       <use xlink:href=\"#DejaVuSans-31\"/>\n       <use xlink:href=\"#DejaVuSans-32\" x=\"63.623047\"/>\n      </g>\n     </g>\n    </g>\n    <g id=\"xtick_8\">\n     <g id=\"line2d_8\">\n      <g>\n       <use xlink:href=\"#m7a257c5182\" x=\"344.2025\" y=\"96.48\" style=\"stroke: #000000; stroke-width: 0.8\"/>\n      </g>\n     </g>\n     <g id=\"text_8\">\n      <!-- 14 -->\n      <g transform=\"translate(337.84 111.078438) scale(0.1 -0.1)\">\n       <use xlink:href=\"#DejaVuSans-31\"/>\n       <use xlink:href=\"#DejaVuSans-34\" x=\"63.623047\"/>\n      </g>\n     </g>\n    </g>\n   </g>\n   <g id=\"matplotlib.axis_2\">\n    <g id=\"ytick_1\">\n     <g id=\"line2d_9\">\n      <defs>\n       <path id=\"m6ba8bf76ac\" d=\"M 0 0 \nL -3.5 0 \n\" style=\"stroke: #000000; stroke-width: 0.8\"/>\n      </defs>\n      <g>\n       <use xlink:href=\"#m6ba8bf76ac\" x=\"20.5625\" y=\"18.36\" style=\"stroke: #000000; stroke-width: 0.8\"/>\n      </g>\n     </g>\n     <g id=\"text_9\">\n      <!-- 0 -->\n      <g transform=\"translate(7.2 22.159219) scale(0.1 -0.1)\">\n       <use xlink:href=\"#DejaVuSans-30\"/>\n      </g>\n     </g>\n    </g>\n    <g id=\"ytick_2\">\n     <g id=\"line2d_10\">\n      <g>\n       <use xlink:href=\"#m6ba8bf76ac\" x=\"20.5625\" y=\"40.68\" style=\"stroke: #000000; stroke-width: 0.8\"/>\n      </g>\n     </g>\n     <g id=\"text_10\">\n      <!-- 1 -->\n      <g transform=\"translate(7.2 44.479219) scale(0.1 -0.1)\">\n       <use xlink:href=\"#DejaVuSans-31\"/>\n      </g>\n     </g>\n    </g>\n    <g id=\"ytick_3\">\n     <g id=\"line2d_11\">\n      <g>\n       <use xlink:href=\"#m6ba8bf76ac\" x=\"20.5625\" y=\"63\" style=\"stroke: #000000; stroke-width: 0.8\"/>\n      </g>\n     </g>\n     <g id=\"text_11\">\n      <!-- 2 -->\n      <g transform=\"translate(7.2 66.799219) scale(0.1 -0.1)\">\n       <use xlink:href=\"#DejaVuSans-32\"/>\n      </g>\n     </g>\n    </g>\n    <g id=\"ytick_4\">\n     <g id=\"line2d_12\">\n      <g>\n       <use xlink:href=\"#m6ba8bf76ac\" x=\"20.5625\" y=\"85.32\" style=\"stroke: #000000; stroke-width: 0.8\"/>\n      </g>\n     </g>\n     <g id=\"text_12\">\n      <!-- 3 -->\n      <g transform=\"translate(7.2 89.119219) scale(0.1 -0.1)\">\n       <defs>\n        <path id=\"DejaVuSans-33\" d=\"M 2597 2516 \nQ 3050 2419 3304 2112 \nQ 3559 1806 3559 1356 \nQ 3559 666 3084 287 \nQ 2609 -91 1734 -91 \nQ 1441 -91 1130 -33 \nQ 819 25 488 141 \nL 488 750 \nQ 750 597 1062 519 \nQ 1375 441 1716 441 \nQ 2309 441 2620 675 \nQ 2931 909 2931 1356 \nQ 2931 1769 2642 2001 \nQ 2353 2234 1838 2234 \nL 1294 2234 \nL 1294 2753 \nL 1863 2753 \nQ 2328 2753 2575 2939 \nQ 2822 3125 2822 3475 \nQ 2822 3834 2567 4026 \nQ 2313 4219 1838 4219 \nQ 1578 4219 1281 4162 \nQ 984 4106 628 3988 \nL 628 4550 \nQ 988 4650 1302 4700 \nQ 1616 4750 1894 4750 \nQ 2613 4750 3031 4423 \nQ 3450 4097 3450 3541 \nQ 3450 3153 3228 2886 \nQ 3006 2619 2597 2516 \nz\n\" transform=\"scale(0.015625)\"/>\n       </defs>\n       <use xlink:href=\"#DejaVuSans-33\"/>\n      </g>\n     </g>\n    </g>\n   </g>\n   <g id=\"patch_3\">\n    <path d=\"M 20.5625 96.48 \nL 20.5625 7.2 \n\" style=\"fill: none; stroke: #000000; stroke-width: 0.8; stroke-linejoin: miter; stroke-linecap: square\"/>\n   </g>\n   <g id=\"patch_4\">\n    <path d=\"M 377.6825 96.48 \nL 377.6825 7.2 \n\" style=\"fill: none; stroke: #000000; stroke-width: 0.8; stroke-linejoin: miter; stroke-linecap: square\"/>\n   </g>\n   <g id=\"patch_5\">\n    <path d=\"M 20.5625 96.48 \nL 377.6825 96.48 \n\" style=\"fill: none; stroke: #000000; stroke-width: 0.8; stroke-linejoin: miter; stroke-linecap: square\"/>\n   </g>\n   <g id=\"patch_6\">\n    <path d=\"M 20.5625 7.2 \nL 377.6825 7.2 \n\" style=\"fill: none; stroke: #000000; stroke-width: 0.8; stroke-linejoin: miter; stroke-linecap: square\"/>\n   </g>\n  </g>\n </g>\n <defs>\n  <clipPath id=\"pa627374395\">\n   <rect x=\"20.5625\" y=\"7.2\" width=\"357.12\" height=\"89.28\"/>\n  </clipPath>\n </defs>\n</svg>\n",
      "text/plain": [
       "<Figure size 640x480 with 1 Axes>"
      ]
     },
     "metadata": {},
     "output_type": "display_data"
    },
    {
     "data": {
      "text/plain": [
       "<matplotlib.image.AxesImage at 0x12f2f1a90>"
      ]
     },
     "execution_count": 25,
     "metadata": {},
     "output_type": "execute_result"
    },
    {
     "data": {
      "image/png": "[encoded data removed]",
      "image/svg+xml": "<?xml version=\"1.0\" encoding=\"utf-8\" standalone=\"no\"?>\n<!DOCTYPE svg PUBLIC \"-//W3C//DTD SVG 1.1//EN\"\n  \"http://www.w3.org/Graphics/SVG/1.1/DTD/svg11.dtd\">\n<svg xmlns:xlink=\"http://www.w3.org/1999/xlink\" width=\"169.3855pt\" height=\"297.190125pt\" viewBox=\"0 0 169.3855 297.190125\" xmlns=\"http://www.w3.org/2000/svg\" version=\"1.1\">\n <metadata>\n  <rdf:RDF xmlns:dc=\"http://purl.org/dc/elements/1.1/\" xmlns:cc=\"http://creativecommons.org/ns#\" xmlns:rdf=\"http://www.w3.org/1999/02/22-rdf-syntax-ns#\">\n   <cc:Work>\n    <dc:type rdf:resource=\"http://purl.org/dc/dcmitype/StillImage\"/>\n    <dc:date>2023-02-23T16:13:59.556831</dc:date>\n    <dc:format>image/svg+xml</dc:format>\n    <dc:creator>\n     <cc:Agent>\n      <dc:title>Matplotlib v3.6.1, https://matplotlib.org/</dc:title>\n     </cc:Agent>\n    </dc:creator>\n   </cc:Work>\n  </rdf:RDF>\n </metadata>\n <defs>\n  <style type=\"text/css\">*{stroke-linejoin: round; stroke-linecap: butt}</style>\n </defs>\n <g id=\"figure_1\">\n  <g id=\"patch_1\">\n   <path d=\"M 0 297.190125 \nL 169.3855 297.190125 \nL 169.3855 0 \nL 0 0 \nz\n\" style=\"fill: #ffffff\"/>\n  </g>\n  <g id=\"axes_1\">\n   <g id=\"patch_2\">\n    <path d=\"M 26.925 273.312 \nL 159.981 273.312 \nL 159.981 7.2 \nL 26.925 7.2 \nz\n\" style=\"fill: #ffffff\"/>\n   </g>\n   <g clip-path=\"url(#p49eebc7cb0)\">\n    <image xlink:href=\"data:image/png;base64,\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\" id=\"image125eba47f4\" transform=\"scale(1 -1) translate(0 -266.4)\" x=\"26.925\" y=\"-6.912\" width=\"133.2\" height=\"266.4\"/>\n   </g>\n   <g id=\"matplotlib.axis_1\">\n    <g id=\"xtick_1\">\n     <g id=\"line2d_1\">\n      <defs>\n       <path id=\"m3d5d193e2c\" d=\"M 0 0 \nL 0 3.5 \n\" style=\"stroke: #000000; stroke-width: 0.8\"/>\n      </defs>\n      <g>\n       <use xlink:href=\"#m3d5d193e2c\" x=\"31.083\" y=\"273.312\" style=\"stroke: #000000; stroke-width: 0.8\"/>\n      </g>\n     </g>\n     <g id=\"text_1\">\n      <!-- 0 -->\n      <g transform=\"translate(27.90175 287.910437) scale(0.1 -0.1)\">\n       <defs>\n        <path id=\"DejaVuSans-30\" d=\"M 2034 4250 \nQ 1547 4250 1301 3770 \nQ 1056 3291 1056 2328 \nQ 1056 1369 1301 889 \nQ 1547 409 2034 409 \nQ 2525 409 2770 889 \nQ 3016 1369 3016 2328 \nQ 3016 3291 2770 3770 \nQ 2525 4250 2034 4250 \nz\nM 2034 4750 \nQ 2819 4750 3233 4129 \nQ 3647 3509 3647 2328 \nQ 3647 1150 3233 529 \nQ 2819 -91 2034 -91 \nQ 1250 -91 836 529 \nQ 422 1150 422 2328 \nQ 422 3509 836 4129 \nQ 1250 4750 2034 4750 \nz\n\" transform=\"scale(0.015625)\"/>\n       </defs>\n       <use xlink:href=\"#DejaVuSans-30\"/>\n      </g>\n     </g>\n    </g>\n    <g id=\"xtick_2\">\n     <g id=\"line2d_2\">\n      <g>\n       <use xlink:href=\"#m3d5d193e2c\" x=\"72.663\" y=\"273.312\" style=\"stroke: #000000; stroke-width: 0.8\"/>\n      </g>\n     </g>\n     <g id=\"text_2\">\n      <!-- 5 -->\n      <g transform=\"translate(69.48175 287.910437) scale(0.1 -0.1)\">\n       <defs>\n        <path id=\"DejaVuSans-35\" d=\"M 691 4666 \nL 3169 4666 \nL 3169 4134 \nL 1269 4134 \nL 1269 2991 \nQ 1406 3038 1543 3061 \nQ 1681 3084 1819 3084 \nQ 2600 3084 3056 2656 \nQ 3513 2228 3513 1497 \nQ 3513 744 3044 326 \nQ 2575 -91 1722 -91 \nQ 1428 -91 1123 -41 \nQ 819 9 494 109 \nL 494 744 \nQ 775 591 1075 516 \nQ 1375 441 1709 441 \nQ 2250 441 2565 725 \nQ 2881 1009 2881 1497 \nQ 2881 1984 2565 2268 \nQ 2250 2553 1709 2553 \nQ 1456 2553 1204 2497 \nQ 953 2441 691 2322 \nL 691 4666 \nz\n\" transform=\"scale(0.015625)\"/>\n       </defs>\n       <use xlink:href=\"#DejaVuSans-35\"/>\n      </g>\n     </g>\n    </g>\n    <g id=\"xtick_3\">\n     <g id=\"line2d_3\">\n      <g>\n       <use xlink:href=\"#m3d5d193e2c\" x=\"114.243\" y=\"273.312\" style=\"stroke: #000000; stroke-width: 0.8\"/>\n      </g>\n     </g>\n     <g id=\"text_3\">\n      <!-- 10 -->\n      <g transform=\"translate(107.8805 287.910437) scale(0.1 -0.1)\">\n       <defs>\n        <path id=\"DejaVuSans-31\" d=\"M 794 531 \nL 1825 531 \nL 1825 4091 \nL 703 3866 \nL 703 4441 \nL 1819 4666 \nL 2450 4666 \nL 2450 531 \nL 3481 531 \nL 3481 0 \nL 794 0 \nL 794 531 \nz\n\" transform=\"scale(0.015625)\"/>\n       </defs>\n       <use xlink:href=\"#DejaVuSans-31\"/>\n       <use xlink:href=\"#DejaVuSans-30\" x=\"63.623047\"/>\n      </g>\n     </g>\n    </g>\n    <g id=\"xtick_4\">\n     <g id=\"line2d_4\">\n      <g>\n       <use xlink:href=\"#m3d5d193e2c\" x=\"155.823\" y=\"273.312\" style=\"stroke: #000000; stroke-width: 0.8\"/>\n      </g>\n     </g>\n     <g id=\"text_4\">\n      <!-- 15 -->\n      <g transform=\"translate(149.4605 287.910437) scale(0.1 -0.1)\">\n       <use xlink:href=\"#DejaVuSans-31\"/>\n       <use xlink:href=\"#DejaVuSans-35\" x=\"63.623047\"/>\n      </g>\n     </g>\n    </g>\n   </g>\n   <g id=\"matplotlib.axis_2\">\n    <g id=\"ytick_1\">\n     <g id=\"line2d_5\">\n      <defs>\n       <path id=\"m4eb06c9649\" d=\"M 0 0 \nL -3.5 0 \n\" style=\"stroke: #000000; stroke-width: 0.8\"/>\n      </defs>\n      <g>\n       <use xlink:href=\"#m4eb06c9649\" x=\"26.925\" y=\"11.358\" style=\"stroke: #000000; stroke-width: 0.8\"/>\n      </g>\n     </g>\n     <g id=\"text_5\">\n      <!-- 0 -->\n      <g transform=\"translate(13.5625 15.157219) scale(0.1 -0.1)\">\n       <use xlink:href=\"#DejaVuSans-30\"/>\n      </g>\n     </g>\n    </g>\n    <g id=\"ytick_2\">\n     <g id=\"line2d_6\">\n      <g>\n       <use xlink:href=\"#m4eb06c9649\" x=\"26.925\" y=\"52.938\" style=\"stroke: #000000; stroke-width: 0.8\"/>\n      </g>\n     </g>\n     <g id=\"text_6\">\n      <!-- 5 -->\n      <g transform=\"translate(13.5625 56.737219) scale(0.1 -0.1)\">\n       <use xlink:href=\"#DejaVuSans-35\"/>\n      </g>\n     </g>\n    </g>\n    <g id=\"ytick_3\">\n     <g id=\"line2d_7\">\n      <g>\n       <use xlink:href=\"#m4eb06c9649\" x=\"26.925\" y=\"94.518\" style=\"stroke: #000000; stroke-width: 0.8\"/>\n      </g>\n     </g>\n     <g id=\"text_7\">\n      <!-- 10 -->\n      <g transform=\"translate(7.2 98.317219) scale(0.1 -0.1)\">\n       <use xlink:href=\"#DejaVuSans-31\"/>\n       <use xlink:href=\"#DejaVuSans-30\" x=\"63.623047\"/>\n      </g>\n     </g>\n    </g>\n    <g id=\"ytick_4\">\n     <g id=\"line2d_8\">\n      <g>\n       <use xlink:href=\"#m4eb06c9649\" x=\"26.925\" y=\"136.098\" style=\"stroke: #000000; stroke-width: 0.8\"/>\n      </g>\n     </g>\n     <g id=\"text_8\">\n      <!-- 15 -->\n      <g transform=\"translate(7.2 139.897219) scale(0.1 -0.1)\">\n       <use xlink:href=\"#DejaVuSans-31\"/>\n       <use xlink:href=\"#DejaVuSans-35\" x=\"63.623047\"/>\n      </g>\n     </g>\n    </g>\n    <g id=\"ytick_5\">\n     <g id=\"line2d_9\">\n      <g>\n       <use xlink:href=\"#m4eb06c9649\" x=\"26.925\" y=\"177.678\" style=\"stroke: #000000; stroke-width: 0.8\"/>\n      </g>\n     </g>\n     <g id=\"text_9\">\n      <!-- 20 -->\n      <g transform=\"translate(7.2 181.477219) scale(0.1 -0.1)\">\n       <defs>\n        <path id=\"DejaVuSans-32\" d=\"M 1228 531 \nL 3431 531 \nL 3431 0 \nL 469 0 \nL 469 531 \nQ 828 903 1448 1529 \nQ 2069 2156 2228 2338 \nQ 2531 2678 2651 2914 \nQ 2772 3150 2772 3378 \nQ 2772 3750 2511 3984 \nQ 2250 4219 1831 4219 \nQ 1534 4219 1204 4116 \nQ 875 4013 500 3803 \nL 500 4441 \nQ 881 4594 1212 4672 \nQ 1544 4750 1819 4750 \nQ 2544 4750 2975 4387 \nQ 3406 4025 3406 3419 \nQ 3406 3131 3298 2873 \nQ 3191 2616 2906 2266 \nQ 2828 2175 2409 1742 \nQ 1991 1309 1228 531 \nz\n\" transform=\"scale(0.015625)\"/>\n       </defs>\n       <use xlink:href=\"#DejaVuSans-32\"/>\n       <use xlink:href=\"#DejaVuSans-30\" x=\"63.623047\"/>\n      </g>\n     </g>\n    </g>\n    <g id=\"ytick_6\">\n     <g id=\"line2d_10\">\n      <g>\n       <use xlink:href=\"#m4eb06c9649\" x=\"26.925\" y=\"219.258\" style=\"stroke: #000000; stroke-width: 0.8\"/>\n      </g>\n     </g>\n     <g id=\"text_10\">\n      <!-- 25 -->\n      <g transform=\"translate(7.2 223.057219) scale(0.1 -0.1)\">\n       <use xlink:href=\"#DejaVuSans-32\"/>\n       <use xlink:href=\"#DejaVuSans-35\" x=\"63.623047\"/>\n      </g>\n     </g>\n    </g>\n    <g id=\"ytick_7\">\n     <g id=\"line2d_11\">\n      <g>\n       <use xlink:href=\"#m4eb06c9649\" x=\"26.925\" y=\"260.838\" style=\"stroke: #000000; stroke-width: 0.8\"/>\n      </g>\n     </g>\n     <g id=\"text_11\">\n      <!-- 30 -->\n      <g transform=\"translate(7.2 264.637219) scale(0.1 -0.1)\">\n       <defs>\n        <path id=\"DejaVuSans-33\" d=\"M 2597 2516 \nQ 3050 2419 3304 2112 \nQ 3559 1806 3559 1356 \nQ 3559 666 3084 287 \nQ 2609 -91 1734 -91 \nQ 1441 -91 1130 -33 \nQ 819 25 488 141 \nL 488 750 \nQ 750 597 1062 519 \nQ 1375 441 1716 441 \nQ 2309 441 2620 675 \nQ 2931 909 2931 1356 \nQ 2931 1769 2642 2001 \nQ 2353 2234 1838 2234 \nL 1294 2234 \nL 1294 2753 \nL 1863 2753 \nQ 2328 2753 2575 2939 \nQ 2822 3125 2822 3475 \nQ 2822 3834 2567 4026 \nQ 2313 4219 1838 4219 \nQ 1578 4219 1281 4162 \nQ 984 4106 628 3988 \nL 628 4550 \nQ 988 4650 1302 4700 \nQ 1616 4750 1894 4750 \nQ 2613 4750 3031 4423 \nQ 3450 4097 3450 3541 \nQ 3450 3153 3228 2886 \nQ 3006 2619 2597 2516 \nz\n\" transform=\"scale(0.015625)\"/>\n       </defs>\n       <use xlink:href=\"#DejaVuSans-33\"/>\n       <use xlink:href=\"#DejaVuSans-30\" x=\"63.623047\"/>\n      </g>\n     </g>\n    </g>\n   </g>\n   <g id=\"patch_3\">\n    <path d=\"M 26.925 273.312 \nL 26.925 7.2 \n\" style=\"fill: none; stroke: #000000; stroke-width: 0.8; stroke-linejoin: miter; stroke-linecap: square\"/>\n   </g>\n   <g id=\"patch_4\">\n    <path d=\"M 159.981 273.312 \nL 159.981 7.2 \n\" style=\"fill: none; stroke: #000000; stroke-width: 0.8; stroke-linejoin: miter; stroke-linecap: square\"/>\n   </g>\n   <g id=\"patch_5\">\n    <path d=\"M 26.925 273.312 \nL 159.981 273.312 \n\" style=\"fill: none; stroke: #000000; stroke-width: 0.8; stroke-linejoin: miter; stroke-linecap: square\"/>\n   </g>\n   <g id=\"patch_6\">\n    <path d=\"M 26.925 7.2 \nL 159.981 7.2 \n\" style=\"fill: none; stroke: #000000; stroke-width: 0.8; stroke-linejoin: miter; stroke-linecap: square\"/>\n   </g>\n  </g>\n </g>\n <defs>\n  <clipPath id=\"p49eebc7cb0\">\n   <rect x=\"26.925\" y=\"7.2\" width=\"133.056\" height=\"266.112\"/>\n  </clipPath>\n </defs>\n</svg>\n",
      "text/plain": [
       "<Figure size 640x480 with 1 Axes>"
      ]
     },
     "metadata": {},
     "output_type": "display_data"
    }
   ],
   "source": [
    "# plot 3D heatmaps\n",
    "y[0,1] = 1.0\n",
    "plt.imshow(y[0,0].reshape(4,16).detach().numpy())\n",
    "plt.show()\n",
    "plt.imshow(y[0].view(8*4 ,16).detach().numpy())\n"
   ]
  },
  {
   "cell_type": "code",
   "execution_count": 34,
   "metadata": {},
   "outputs": [
    {
     "ename": "RuntimeError",
     "evalue": "Trying to backward through the graph a second time (or directly access saved tensors after they have already been freed). Saved intermediate values of the graph are freed when you call .backward() or autograd.grad(). Specify retain_graph=True if you need to backward through the graph a second time or if you need to access saved tensors after calling backward.",
     "output_type": "error",
     "traceback": [
      "\u001b[0;31m---------------------------------------------------------------------------\u001b[0m",
      "\u001b[0;31mRuntimeError\u001b[0m                              Traceback (most recent call last)",
      "Cell \u001b[0;32mIn [34], line 2\u001b[0m\n\u001b[1;32m      1\u001b[0m loss \u001b[39m=\u001b[39m (x \u001b[39m-\u001b[39m y)\n\u001b[0;32m----> 2\u001b[0m loss\u001b[39m.\u001b[39;49mmean()\u001b[39m.\u001b[39;49mbackward()\n",
      "File \u001b[0;32m~/miniforge3/envs/ml-env/lib/python3.9/site-packages/torch/_tensor.py:396\u001b[0m, in \u001b[0;36mTensor.backward\u001b[0;34m(self, gradient, retain_graph, create_graph, inputs)\u001b[0m\n\u001b[1;32m    387\u001b[0m \u001b[39mif\u001b[39;00m has_torch_function_unary(\u001b[39mself\u001b[39m):\n\u001b[1;32m    388\u001b[0m     \u001b[39mreturn\u001b[39;00m handle_torch_function(\n\u001b[1;32m    389\u001b[0m         Tensor\u001b[39m.\u001b[39mbackward,\n\u001b[1;32m    390\u001b[0m         (\u001b[39mself\u001b[39m,),\n\u001b[0;32m   (...)\u001b[0m\n\u001b[1;32m    394\u001b[0m         create_graph\u001b[39m=\u001b[39mcreate_graph,\n\u001b[1;32m    395\u001b[0m         inputs\u001b[39m=\u001b[39minputs)\n\u001b[0;32m--> 396\u001b[0m torch\u001b[39m.\u001b[39;49mautograd\u001b[39m.\u001b[39;49mbackward(\u001b[39mself\u001b[39;49m, gradient, retain_graph, create_graph, inputs\u001b[39m=\u001b[39;49minputs)\n",
      "File \u001b[0;32m~/miniforge3/envs/ml-env/lib/python3.9/site-packages/torch/autograd/__init__.py:173\u001b[0m, in \u001b[0;36mbackward\u001b[0;34m(tensors, grad_tensors, retain_graph, create_graph, grad_variables, inputs)\u001b[0m\n\u001b[1;32m    168\u001b[0m     retain_graph \u001b[39m=\u001b[39m create_graph\n\u001b[1;32m    170\u001b[0m \u001b[39m# The reason we repeat same the comment below is that\u001b[39;00m\n\u001b[1;32m    171\u001b[0m \u001b[39m# some Python versions print out the first line of a multi-line function\u001b[39;00m\n\u001b[1;32m    172\u001b[0m \u001b[39m# calls in the traceback and some print out the last line\u001b[39;00m\n\u001b[0;32m--> 173\u001b[0m Variable\u001b[39m.\u001b[39;49m_execution_engine\u001b[39m.\u001b[39;49mrun_backward(  \u001b[39m# Calls into the C++ engine to run the backward pass\u001b[39;49;00m\n\u001b[1;32m    174\u001b[0m     tensors, grad_tensors_, retain_graph, create_graph, inputs,\n\u001b[1;32m    175\u001b[0m     allow_unreachable\u001b[39m=\u001b[39;49m\u001b[39mTrue\u001b[39;49;00m, accumulate_grad\u001b[39m=\u001b[39;49m\u001b[39mTrue\u001b[39;49;00m)\n",
      "\u001b[0;31mRuntimeError\u001b[0m: Trying to backward through the graph a second time (or directly access saved tensors after they have already been freed). Saved intermediate values of the graph are freed when you call .backward() or autograd.grad(). Specify retain_graph=True if you need to backward through the graph a second time or if you need to access saved tensors after calling backward."
     ]
    }
   ],
   "source": [
    "loss = (x - y)**2\n",
    "loss.mean().backward()"
   ]
  },
  {
   "cell_type": "code",
   "execution_count": 33,
   "metadata": {},
   "outputs": [
    {
     "data": {
      "text/plain": [
       "<matplotlib.image.AxesImage at 0x16ab96d00>"
      ]
     },
     "execution_count": 33,
     "metadata": {},
     "output_type": "execute_result"
    },
    {
     "data": {
      "image/png": "[encoded data removed]",
      "image/svg+xml": "<?xml version=\"1.0\" encoding=\"utf-8\" standalone=\"no\"?>\n<!DOCTYPE svg PUBLIC \"-//W3C//DTD SVG 1.1//EN\"\n  \"http://www.w3.org/Graphics/SVG/1.1/DTD/svg11.dtd\">\n<svg xmlns:xlink=\"http://www.w3.org/1999/xlink\" width=\"122.829pt\" height=\"297.190125pt\" viewBox=\"0 0 122.829 297.190125\" xmlns=\"http://www.w3.org/2000/svg\" version=\"1.1\">\n <metadata>\n  <rdf:RDF xmlns:dc=\"http://purl.org/dc/elements/1.1/\" xmlns:cc=\"http://creativecommons.org/ns#\" xmlns:rdf=\"http://www.w3.org/1999/02/22-rdf-syntax-ns#\">\n   <cc:Work>\n    <dc:type rdf:resource=\"http://purl.org/dc/dcmitype/StillImage\"/>\n    <dc:date>2023-02-23T16:15:38.971907</dc:date>\n    <dc:format>image/svg+xml</dc:format>\n    <dc:creator>\n     <cc:Agent>\n      <dc:title>Matplotlib v3.6.1, https://matplotlib.org/</dc:title>\n     </cc:Agent>\n    </dc:creator>\n   </cc:Work>\n  </rdf:RDF>\n </metadata>\n <defs>\n  <style type=\"text/css\">*{stroke-linejoin: round; stroke-linecap: butt}</style>\n </defs>\n <g id=\"figure_1\">\n  <g id=\"patch_1\">\n   <path d=\"M 0 297.190125 \nL 122.829 297.190125 \nL 122.829 0 \nL 0 0 \nz\n\" style=\"fill: #ffffff\"/>\n  </g>\n  <g id=\"axes_1\">\n   <g id=\"patch_2\">\n    <path d=\"M 26.925 273.312 \nL 115.629 273.312 \nL 115.629 7.2 \nL 26.925 7.2 \nz\n\" style=\"fill: #ffffff\"/>\n   </g>\n   <g clip-path=\"url(#pcb145617aa)\">\n    <image xlink:href=\"data:image/png;base64,\niVBORw0KGgoAAAANSUhEUgAAAHwAAAFyCAYAAAA3Y756AAAH0klEQVR4nO3d249V9RmH8d9ibwaYggyOHQ6GiUwYEKsFmyidIDckKq1BLbGKkTAiCkVTJWlFiYcmmtiEVDw0ENsqg16JMUoVU4wRUCCoxEZoPdRwmDBYaVRgRkBkOPR/eN+Lpnmez/2bL/hkXS3Wtrrtg86zJWhAdSZ6Wkop5V9HRoZvv9o0JrU98Fj8tveS/tR2496B4duG3tR0GZA71/8bg8MYHMbgMAaHMTiMwWEMDmNwGIPDGBzG4DAGhzE4TP2L+eeHj/tWnEqNPzj+jfDtU9demtre90J7+HZG677U9uYh8e3GjYNT2z7hMAaHMTiMwWEMDmNwGIPDGBzG4DAGhzE4jMFhDA5jcBiDw1TjX3ok/LnwmK5BqfHTg6rw7ZcdtdT2NVfuCN9ueuHy1HbzpyfDt32t8U+NS/EJxzE4jMFhDA5jcBiDwxgcxuAwBocxOIzBYQwOY3AYg8PU3+5YFT6ecfbO1Hj/8Ybw7aSle1Lbn09tCd/2D0tNl++Hx1/trn7widS2TziMwWEMDmNwGIPDGBzG4DAGhzE4jMFhDA5jcBiDwxgcxuAwVfsjK8KfC7et/To1/ucNq8O3d/z89tT2uK7u8O3Ob3L/Z+P+0/H34Y0rm1LbPuEwBocxOIzBYQwOY3AYg8MYHMbgMAaHMTiMwWEMDmNwmHrtRPx490NDUuO/+/fM8O2y115MbbfVj4ZvF900N7W9b3lj+LaW+NS4FJ9wHIPDGBzG4DAGhzE4jMFhDA5jcBiDwxgcxuAwBocxOIzBYaqZrUvCnwuf6jmQGj+4blL49szWEantlpnxP/vgBeH/ZKWUUjrfejd82zX7Z6ltn3AYg8MYHMbgMAaHMTiMwWEMDmNwGIPDGBzG4DAGhzE4TPVBd2v4XV/nM0tS42sXPx6+nfePztT2qIV94dvrNu5Kba9adX34tqEv92rWJxzG4DAGhzE4jMFhDA5jcBiDwxgcxuAwBocxOIzBYQwOU13w5B/C79uad1ap8SMT4rdtr8Z/DbmUUsrZ+GvG/uGDUtO94xrCty2bD6a2fcJhDA5jcBiDwxgcxuAwBocxOIzBYQwOY3AYg8MYHMbgMAaHqTeNPxQ+bn4g92vKTZPbw7dfTxma2j50xffh2wt/053aHtgS/3ufHJv7FWmfcBiDwxgcxuAwBocxOIzBYQwOY3AYg8MYHMbgMAaHMThM/fDec8PHP7wo/tlrKaUM7P5P+HbY8LGp7Zbf9oRvT03MbW9//Jnw7fhN81PbPuEwBocxOIzBYQwOY3AYg8MYHMbgMAaHMTiMwWEMDmNwGIPDVAd6RoV/R3rWo/fm1s/ET897fkdq+uSMKeHbgwtPpLbP7jonfHvBuvjn3aX4hOMYHMbgMAaHMTiMwWEMDmNwGIPDGBzG4DAGhzE4jMFhqmnXLw+/Hj26oDc1fvTY4PDtkPd+kNqeNX9L+HZ0w5HU9vo508K3340dltr2CYcxOIzBYQwOY3AYg8MYHMbgMAaHMTiMwWEMDmNwGIPD1KvEF5wtj+Z+TfmylZ+Hb3e+MTm1XUv8xf/07KzU9tVrtodvP75pXGrbJxzG4DAGhzE4jMFhDA5jcBiDwxgcxuAwBocxOIzBYQwOY3CY6tsvWsOfC/+yY3Zq/FTPgfBtrb0ttX16ROJz498fTm0f64//O4IVE9emtn3CYQwOY3AYg8MYHMbgMAaHMTiMwWEMDmNwGIPDGBzG4DDV5NcfCL8e7d/SnBp/7s6nwrfLFvwqtf2/1LUm/ve+8Z+3prZ9wmEMDmNwGIPDGBzG4DAGhzE4jMFhDA5jcBiDwxgcxuAwBoep1waEX4eXvpGJ394upRw53Ri+bTj0XWr7s4VDw7cTu3Lbv9h5W/i2+mvu3yD4hMMYHMbgMAaHMTiMwWEMDmNwGIPDGBzG4DAGhzE4jMFhqnnvzw+/H+25vz01Xtv89/Dt4c6O1PZ5730Vvn34b7lfNF60a274dvQ5faltn3AYg8MYHMbgMAaHMTiMwWEMDmNwGIPDGBzG4DAGhzE4jMFhqovWPRx+H17b2JQaHzO7O3y7su2l1Paqb6aHb7ctn5ranrb0/fDtK59MSW37hMMYHMbgMAaHMTiMwWEMDmNwGIPDGBzG4DAGhzE4jMFhqtf2XBx+PXr39ptT401bBodvr73rndT28x/9NHy7Zvrq1Hbn23eEb0d8WE9t+4TDGBzG4DAGhzE4jMFhDA5jcBiDwxgcxuAwBocxOIzBYaqr2+8Nvx7tvbQlNX58ZC182/zxidT2njnx7QmLdqS2/7J/a/h28dQbUts+4TAGhzE4jMFhDA5jcBiDwxgcxuAwBocxOIzBYQwOY3AYg8OkPhf+9dZbUuNj1sc/fT1889HUdtOLQ8O3h34Uf5deSinDd58J385ZtiG17RMOY3AYg8MYHMbgMAaHMTiMwWEMDmNwGIPDGBzG4DAGh6k+3T86/Hr0nmsWpMZXrI//KvGsbXelth+77JXw7X3bcp/sdkzYG779aMOk1LZPOIzBYQwOY3AYg8MYHMbgMAaHMTiMwWEMDmNwGIPDGBzG4DDVq7t/HH4fPqremxq//Y/3hG/fXLI8tX3V00vDtyd+cjy1PerlQeHb6Q9tT237hMMYHMbgMAaHMTiMwWEMDmNwGIPDGBzG4DAGhzE4jMFh/gt1uSJn/Uxr5gAAAABJRU5ErkJggg==\" id=\"image9f35d332d9\" transform=\"scale(1 -1) translate(0 -266.4)\" x=\"26.925\" y=\"-6.912\" width=\"89.28\" height=\"266.4\"/>\n   </g>\n   <g id=\"matplotlib.axis_1\">\n    <g id=\"xtick_1\">\n     <g id=\"line2d_1\">\n      <defs>\n       <path id=\"m0209ebbaf3\" d=\"M 0 0 \nL 0 3.5 \n\" style=\"stroke: #000000; stroke-width: 0.8\"/>\n      </defs>\n      <g>\n       <use xlink:href=\"#m0209ebbaf3\" x=\"32.469\" y=\"273.312\" style=\"stroke: #000000; stroke-width: 0.8\"/>\n      </g>\n     </g>\n     <g id=\"text_1\">\n      <!-- 0 -->\n      <g transform=\"translate(29.28775 287.910437) scale(0.1 -0.1)\">\n       <defs>\n        <path id=\"DejaVuSans-30\" d=\"M 2034 4250 \nQ 1547 4250 1301 3770 \nQ 1056 3291 1056 2328 \nQ 1056 1369 1301 889 \nQ 1547 409 2034 409 \nQ 2525 409 2770 889 \nQ 3016 1369 3016 2328 \nQ 3016 3291 2770 3770 \nQ 2525 4250 2034 4250 \nz\nM 2034 4750 \nQ 2819 4750 3233 4129 \nQ 3647 3509 3647 2328 \nQ 3647 1150 3233 529 \nQ 2819 -91 2034 -91 \nQ 1250 -91 836 529 \nQ 422 1150 422 2328 \nQ 422 3509 836 4129 \nQ 1250 4750 2034 4750 \nz\n\" transform=\"scale(0.015625)\"/>\n       </defs>\n       <use xlink:href=\"#DejaVuSans-30\"/>\n      </g>\n     </g>\n    </g>\n    <g id=\"xtick_2\">\n     <g id=\"line2d_2\">\n      <g>\n       <use xlink:href=\"#m0209ebbaf3\" x=\"87.909\" y=\"273.312\" style=\"stroke: #000000; stroke-width: 0.8\"/>\n      </g>\n     </g>\n     <g id=\"text_2\">\n      <!-- 5 -->\n      <g transform=\"translate(84.72775 287.910437) scale(0.1 -0.1)\">\n       <defs>\n        <path id=\"DejaVuSans-35\" d=\"M 691 4666 \nL 3169 4666 \nL 3169 4134 \nL 1269 4134 \nL 1269 2991 \nQ 1406 3038 1543 3061 \nQ 1681 3084 1819 3084 \nQ 2600 3084 3056 2656 \nQ 3513 2228 3513 1497 \nQ 3513 744 3044 326 \nQ 2575 -91 1722 -91 \nQ 1428 -91 1123 -41 \nQ 819 9 494 109 \nL 494 744 \nQ 775 591 1075 516 \nQ 1375 441 1709 441 \nQ 2250 441 2565 725 \nQ 2881 1009 2881 1497 \nQ 2881 1984 2565 2268 \nQ 2250 2553 1709 2553 \nQ 1456 2553 1204 2497 \nQ 953 2441 691 2322 \nL 691 4666 \nz\n\" transform=\"scale(0.015625)\"/>\n       </defs>\n       <use xlink:href=\"#DejaVuSans-35\"/>\n      </g>\n     </g>\n    </g>\n   </g>\n   <g id=\"matplotlib.axis_2\">\n    <g id=\"ytick_1\">\n     <g id=\"line2d_3\">\n      <defs>\n       <path id=\"md5efe4de12\" d=\"M 0 0 \nL -3.5 0 \n\" style=\"stroke: #000000; stroke-width: 0.8\"/>\n      </defs>\n      <g>\n       <use xlink:href=\"#md5efe4de12\" x=\"26.925\" y=\"12.744\" style=\"stroke: #000000; stroke-width: 0.8\"/>\n      </g>\n     </g>\n     <g id=\"text_3\">\n      <!-- 0 -->\n      <g transform=\"translate(13.5625 16.543219) scale(0.1 -0.1)\">\n       <use xlink:href=\"#DejaVuSans-30\"/>\n      </g>\n     </g>\n    </g>\n    <g id=\"ytick_2\">\n     <g id=\"line2d_4\">\n      <g>\n       <use xlink:href=\"#md5efe4de12\" x=\"26.925\" y=\"68.184\" style=\"stroke: #000000; stroke-width: 0.8\"/>\n      </g>\n     </g>\n     <g id=\"text_4\">\n      <!-- 5 -->\n      <g transform=\"translate(13.5625 71.983219) scale(0.1 -0.1)\">\n       <use xlink:href=\"#DejaVuSans-35\"/>\n      </g>\n     </g>\n    </g>\n    <g id=\"ytick_3\">\n     <g id=\"line2d_5\">\n      <g>\n       <use xlink:href=\"#md5efe4de12\" x=\"26.925\" y=\"123.624\" style=\"stroke: #000000; stroke-width: 0.8\"/>\n      </g>\n     </g>\n     <g id=\"text_5\">\n      <!-- 10 -->\n      <g transform=\"translate(7.2 127.423219) scale(0.1 -0.1)\">\n       <defs>\n        <path id=\"DejaVuSans-31\" d=\"M 794 531 \nL 1825 531 \nL 1825 4091 \nL 703 3866 \nL 703 4441 \nL 1819 4666 \nL 2450 4666 \nL 2450 531 \nL 3481 531 \nL 3481 0 \nL 794 0 \nL 794 531 \nz\n\" transform=\"scale(0.015625)\"/>\n       </defs>\n       <use xlink:href=\"#DejaVuSans-31\"/>\n       <use xlink:href=\"#DejaVuSans-30\" x=\"63.623047\"/>\n      </g>\n     </g>\n    </g>\n    <g id=\"ytick_4\">\n     <g id=\"line2d_6\">\n      <g>\n       <use xlink:href=\"#md5efe4de12\" x=\"26.925\" y=\"179.064\" style=\"stroke: #000000; stroke-width: 0.8\"/>\n      </g>\n     </g>\n     <g id=\"text_6\">\n      <!-- 15 -->\n      <g transform=\"translate(7.2 182.863219) scale(0.1 -0.1)\">\n       <use xlink:href=\"#DejaVuSans-31\"/>\n       <use xlink:href=\"#DejaVuSans-35\" x=\"63.623047\"/>\n      </g>\n     </g>\n    </g>\n    <g id=\"ytick_5\">\n     <g id=\"line2d_7\">\n      <g>\n       <use xlink:href=\"#md5efe4de12\" x=\"26.925\" y=\"234.504\" style=\"stroke: #000000; stroke-width: 0.8\"/>\n      </g>\n     </g>\n     <g id=\"text_7\">\n      <!-- 20 -->\n      <g transform=\"translate(7.2 238.303219) scale(0.1 -0.1)\">\n       <defs>\n        <path id=\"DejaVuSans-32\" d=\"M 1228 531 \nL 3431 531 \nL 3431 0 \nL 469 0 \nL 469 531 \nQ 828 903 1448 1529 \nQ 2069 2156 2228 2338 \nQ 2531 2678 2651 2914 \nQ 2772 3150 2772 3378 \nQ 2772 3750 2511 3984 \nQ 2250 4219 1831 4219 \nQ 1534 4219 1204 4116 \nQ 875 4013 500 3803 \nL 500 4441 \nQ 881 4594 1212 4672 \nQ 1544 4750 1819 4750 \nQ 2544 4750 2975 4387 \nQ 3406 4025 3406 3419 \nQ 3406 3131 3298 2873 \nQ 3191 2616 2906 2266 \nQ 2828 2175 2409 1742 \nQ 1991 1309 1228 531 \nz\n\" transform=\"scale(0.015625)\"/>\n       </defs>\n       <use xlink:href=\"#DejaVuSans-32\"/>\n       <use xlink:href=\"#DejaVuSans-30\" x=\"63.623047\"/>\n      </g>\n     </g>\n    </g>\n   </g>\n   <g id=\"patch_3\">\n    <path d=\"M 26.925 273.312 \nL 26.925 7.2 \n\" style=\"fill: none; stroke: #000000; stroke-width: 0.8; stroke-linejoin: miter; stroke-linecap: square\"/>\n   </g>\n   <g id=\"patch_4\">\n    <path d=\"M 115.629 273.312 \nL 115.629 7.2 \n\" style=\"fill: none; stroke: #000000; stroke-width: 0.8; stroke-linejoin: miter; stroke-linecap: square\"/>\n   </g>\n   <g id=\"patch_5\">\n    <path d=\"M 26.925 273.312 \nL 115.629 273.312 \n\" style=\"fill: none; stroke: #000000; stroke-width: 0.8; stroke-linejoin: miter; stroke-linecap: square\"/>\n   </g>\n   <g id=\"patch_6\">\n    <path d=\"M 26.925 7.2 \nL 115.629 7.2 \n\" style=\"fill: none; stroke: #000000; stroke-width: 0.8; stroke-linejoin: miter; stroke-linecap: square\"/>\n   </g>\n  </g>\n </g>\n <defs>\n  <clipPath id=\"pcb145617aa\">\n   <rect x=\"26.925\" y=\"7.2\" width=\"88.704\" height=\"266.112\"/>\n  </clipPath>\n </defs>\n</svg>\n",
      "text/plain": [
       "<Figure size 640x480 with 1 Axes>"
      ]
     },
     "metadata": {},
     "output_type": "display_data"
    }
   ],
   "source": [
    "plt.imshow(jitted_attention3d.qkv.weight.detach()[...,0,0,0])"
   ]
  },
  {
   "cell_type": "code",
   "execution_count": null,
   "metadata": {},
   "outputs": [],
   "source": []
  }
 ],
 "metadata": {
  "kernelspec": {
   "display_name": "Python 3",
   "language": "python",
   "name": "python3"
  },
  "language_info": {
   "codemirror_mode": {
    "name": "ipython",
    "version": 3
   },
   "file_extension": ".py",
   "mimetype": "text/x-python",
   "name": "python",
   "nbconvert_exporter": "python",
   "pygments_lexer": "ipython3",
   "version": "3.9.13"
  },
  "orig_nbformat": 4,
  "vscode": {
   "interpreter": {
    "hash": "b8e3016ad78f72f4f7374acabde5ab0274e8ff7d7511d6f467ddd3d698452913"
   }
  }
 },
 "nbformat": 4,
 "nbformat_minor": 2
}
